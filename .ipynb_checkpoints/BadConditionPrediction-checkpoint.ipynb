{
 "cells": [
  {
   "cell_type": "code",
   "execution_count": 94,
   "id": "680837ee",
   "metadata": {},
   "outputs": [],
   "source": [
    "# importing the modules and libraries\n",
    "import pandas as pd\n",
    "import numpy as np\n",
    "from pathlib import Path\n",
    "import re"
   ]
  },
  {
   "cell_type": "code",
   "execution_count": null,
   "id": "fb81d66e",
   "metadata": {},
   "outputs": [],
   "source": [
    "TextData = pd.read_csv(\"1.txt\",sep='delimeter', header=None , engine='python')\n",
    "whatneeded = TextData[0]\n",
    "whatneeded = whatneeded[1:120]\n",
    "SpO2 = []\n",
    "PULSE = []\n",
    "HR = []\n",
    "\n",
    "for index, data in whatneeded.iteritems():\n",
    "   \n",
    "    if data.startswith(\"PUL\") or data.startswith(\"HR\") or data.startswith(\"SpO2\"):\n",
    "        # now we can clean up the mess\n",
    "        listed = data.rsplit(\"\\t\")\n",
    "        if(listed[0].rstrip() == \"SpO2\"):\n",
    "            SpO2.append(listed[1])\n",
    "        elif(listed[0].rstrip() == \"PULSE\"):\n",
    "            SpO2.append(listed[1])\n",
    "        else:\n",
    "            HR.append(listed[1])\n",
    "            \n",
    "\n",
    "            \n",
    "            \n",
    "         "
   ]
  },
  {
   "cell_type": "code",
   "execution_count": 264,
   "id": "040bbfaa",
   "metadata": {},
   "outputs": [],
   "source": [
    "TextFilesDataPath = Path(\"DataBeforePreparation\").glob(\"*\")\n",
    "\n",
    "def iterateOverTheFiles(fileName:str, *params):\n",
    "    # creating an empty list for each of the needed data\n",
    "    returnedDictionary = {}\n",
    "    for param in params:\n",
    "        returnedDictionary[param] = []\n",
    "    for file in TextFilesDataPath:\n",
    "        if fullPath.suffix == \".txt\":\n",
    "            TextData = pd.read_csv(str(file),sep='delimeter', header=None , engine='python')[0]\n",
    "            for index, data in TextData.iteritems():\n",
    "                listed = data.rsplit('\\t')\n",
    "                if listed[0].rstrip() in params:\n",
    "                    # let loop to find which key we have to insert \n",
    "                    for key in returnedDictionary.keys():\n",
    "                        if key == listed[0].rstrip():\n",
    "                            returnedDictionary[key].append(listed[1])\n",
    "    return returnedDictionary\n",
    "        \n",
    "                            \n",
    "                    \n",
    "                \n",
    "            \n"
   ]
  },
  {
   "cell_type": "code",
   "execution_count": 265,
   "id": "b28e72fa",
   "metadata": {},
   "outputs": [],
   "source": [
    "res = iterateOverTheFiles(\"ones\", \"SpO2\", \"PULSE\", \"HR\")"
   ]
  },
  {
   "cell_type": "code",
   "execution_count": 292,
   "id": "6115c563",
   "metadata": {},
   "outputs": [],
   "source": [
    "df = pd.DataFrame.from_dict(res,orient='index')\n",
    "df = df.transpose()\n",
    "df = df.iloc[0:2342] # there was one of the data that was't qualifies for the processing purpose"
   ]
  },
  {
   "cell_type": "code",
   "execution_count": 293,
   "id": "d6bf1149",
   "metadata": {},
   "outputs": [
    {
     "name": "stdout",
     "output_type": "stream",
     "text": [
      "2342\n"
     ]
    }
   ],
   "source": [
    "# saving this pprocessed data into the csv format\n",
    "print(len(df))"
   ]
  },
  {
   "cell_type": "code",
   "execution_count": null,
   "id": "df8922c5",
   "metadata": {},
   "outputs": [],
   "source": [
    "def pad_dict_list(dict_list, padel):\n",
    "    lmax = 0\n",
    "    for lname in dict_list.keys():\n",
    "        lmax = max(lmax, len(dict_list[lname]))\n",
    "    for lname in dict_list.keys():\n",
    "        ll = len(dict_list[lname])\n",
    "        if  ll < lmax:\n",
    "            dict_list[lname] += [padel] * (lmax - ll)\n",
    "    return dict_list"
   ]
  }
 ],
 "metadata": {
  "kernelspec": {
   "display_name": "Python 3 (ipykernel)",
   "language": "python",
   "name": "python3"
  },
  "language_info": {
   "codemirror_mode": {
    "name": "ipython",
    "version": 3
   },
   "file_extension": ".py",
   "mimetype": "text/x-python",
   "name": "python",
   "nbconvert_exporter": "python",
   "pygments_lexer": "ipython3",
   "version": "3.7.2"
  }
 },
 "nbformat": 4,
 "nbformat_minor": 5
}
