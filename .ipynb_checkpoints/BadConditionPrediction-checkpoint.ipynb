{
 "cells": [
  {
   "cell_type": "code",
   "execution_count": 94,
   "id": "c9d1040f",
   "metadata": {},
   "outputs": [],
   "source": [
    "# importing the modules and libraries\n",
    "import pandas as pd\n",
    "import numpy as np\n",
    "from pathlib import Path\n",
    "import re"
   ]
  },
  {
   "cell_type": "code",
   "execution_count": 153,
   "id": "e25cc077",
   "metadata": {},
   "outputs": [
    {
     "name": "stdout",
     "output_type": "stream",
     "text": [
      "['0', '0', '0', '0', '0', '0', '0', '0', '0', '0', '0', '0', '0', '0', '0', '0', '0', '0', '0', '0', '0', '0', '0', '0', '0', '0'] [] ['88', '88', '88', '88', '88', '88', '88', '88', '88', '89', '89', '89', '89']\n"
     ]
    }
   ],
   "source": [
    "TextData = pd.read_csv(\"1.txt\",sep='delimeter', header=None , engine='python')\n",
    "whatneeded = TextData[0]\n",
    "whatneeded = whatneeded[1:120]\n",
    "SpO2 = []\n",
    "PULSE = []\n",
    "HR = []\n",
    "for index, data in whatneeded.iteritems():\n",
    "   \n",
    "    if data.startswith(\"PUL\") or data.startswith(\"HR\") or data.startswith(\"SpO2\"):\n",
    "        # now we can clean up the mess\n",
    "        listed = data.rsplit(\"\\t\")\n",
    "        if(listed[0].rstrip() == \"SpO2\"):\n",
    "            SpO2.append(listed[1])\n",
    "        elif(listed[0].rstrip() == \"PULSE\"):\n",
    "            SpO2.append(listed[1])\n",
    "        else:\n",
    "            HR.append(listed[1])\n",
    "            \n",
    "\n",
    "            \n",
    "            \n",
    "         "
   ]
  },
  {
   "cell_type": "code",
   "execution_count": 149,
   "id": "712f85e3",
   "metadata": {},
   "outputs": [
    {
     "data": {
      "text/plain": [
       "['__add__',\n",
       " '__class__',\n",
       " '__contains__',\n",
       " '__delattr__',\n",
       " '__delitem__',\n",
       " '__dir__',\n",
       " '__doc__',\n",
       " '__eq__',\n",
       " '__format__',\n",
       " '__ge__',\n",
       " '__getattribute__',\n",
       " '__getitem__',\n",
       " '__gt__',\n",
       " '__hash__',\n",
       " '__iadd__',\n",
       " '__imul__',\n",
       " '__init__',\n",
       " '__init_subclass__',\n",
       " '__iter__',\n",
       " '__le__',\n",
       " '__len__',\n",
       " '__lt__',\n",
       " '__mul__',\n",
       " '__ne__',\n",
       " '__new__',\n",
       " '__reduce__',\n",
       " '__reduce_ex__',\n",
       " '__repr__',\n",
       " '__reversed__',\n",
       " '__rmul__',\n",
       " '__setattr__',\n",
       " '__setitem__',\n",
       " '__sizeof__',\n",
       " '__str__',\n",
       " '__subclasshook__',\n",
       " 'append',\n",
       " 'clear',\n",
       " 'copy',\n",
       " 'count',\n",
       " 'extend',\n",
       " 'index',\n",
       " 'insert',\n",
       " 'pop',\n",
       " 'remove',\n",
       " 'reverse',\n",
       " 'sort']"
      ]
     },
     "execution_count": 149,
     "metadata": {},
     "output_type": "execute_result"
    }
   ],
   "source": [
    "dir(list)"
   ]
  }
 ],
 "metadata": {
  "kernelspec": {
   "display_name": "Python 3 (ipykernel)",
   "language": "python",
   "name": "python3"
  },
  "language_info": {
   "codemirror_mode": {
    "name": "ipython",
    "version": 3
   },
   "file_extension": ".py",
   "mimetype": "text/x-python",
   "name": "python",
   "nbconvert_exporter": "python",
   "pygments_lexer": "ipython3",
   "version": "3.7.2"
  }
 },
 "nbformat": 4,
 "nbformat_minor": 5
}
