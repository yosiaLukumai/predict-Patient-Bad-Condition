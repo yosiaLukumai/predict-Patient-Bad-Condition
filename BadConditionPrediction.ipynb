{
 "cells": [
  {
   "cell_type": "code",
   "execution_count": 94,
   "id": "668881f6",
   "metadata": {},
   "outputs": [],
   "source": [
    "# importing the modules and libraries\n",
    "import pandas as pd\n",
    "import numpy as np\n",
    "from pathlib import Path\n",
    "import re"
   ]
  },
  {
   "cell_type": "code",
   "execution_count": 298,
   "id": "41453372",
   "metadata": {},
   "outputs": [],
   "source": [
    "TextFilesDataPath = Path(\"DataBeforePreparation\").glob(\"*\")\n",
    "\n",
    "def iterateOverTheFiles(*params):\n",
    "    # creating an empty list for each of the needed data\n",
    "    returnedDictionary = {}\n",
    "    for param in params:\n",
    "        returnedDictionary[param] = []\n",
    "    for file in TextFilesDataPath:\n",
    "        if fullPath.suffix == \".txt\":\n",
    "            TextData = pd.read_csv(str(file),sep='delimeter', header=None , engine='python')[0]\n",
    "            for index, data in TextData.iteritems():\n",
    "                listed = data.rsplit('\\t')\n",
    "                if listed[0].rstrip() in params:\n",
    "                    # let loop to find which key we have to insert \n",
    "                    for key in returnedDictionary.keys():\n",
    "                        if key == listed[0].rstrip():\n",
    "                            returnedDictionary[key].append(listed[1])\n",
    "    return returnedDictionary\n",
    "        \n",
    "                            \n",
    "                    \n",
    "                \n",
    "            \n"
   ]
  },
  {
   "cell_type": "code",
   "execution_count": 299,
   "id": "fc3f6756",
   "metadata": {},
   "outputs": [],
   "source": [
    "res = iterateOverTheFiles(\"SpO2\", \"PULSE\", \"HR\")"
   ]
  },
  {
   "cell_type": "code",
   "execution_count": 300,
   "id": "7f9bfc8c",
   "metadata": {},
   "outputs": [],
   "source": [
    "df = pd.DataFrame.from_dict(res, orient='index')\n",
    "df = df.transpose()\n",
    "df = df.iloc[0:2342] # there was one of the data that was't qualifies for the processing purpose"
   ]
  },
  {
   "cell_type": "code",
   "execution_count": 303,
   "id": "99d58f8d",
   "metadata": {},
   "outputs": [],
   "source": [
    "# saving this pprocessed data into the csv format\n",
    "ProccessedData = Path('ProccessedData')\n",
    "df.to_csv(str(ProccessedData.joinpath(\"processeddata.csv\")), index=False)"
   ]
  }
 ],
 "metadata": {
  "kernelspec": {
   "display_name": "Python 3 (ipykernel)",
   "language": "python",
   "name": "python3"
  },
  "language_info": {
   "codemirror_mode": {
    "name": "ipython",
    "version": 3
   },
   "file_extension": ".py",
   "mimetype": "text/x-python",
   "name": "python",
   "nbconvert_exporter": "python",
   "pygments_lexer": "ipython3",
   "version": "3.7.2"
  }
 },
 "nbformat": 4,
 "nbformat_minor": 5
}
